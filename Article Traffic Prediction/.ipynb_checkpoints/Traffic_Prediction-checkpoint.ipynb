{
 "cells": [
  {
   "cell_type": "code",
   "execution_count": 1,
   "metadata": {
    "id": "KXKaAKLrVAAW"
   },
   "outputs": [],
   "source": [
    "import pandas as pd\n",
    "import numpy as np\n",
    "import matplotlib.pyplot as plt\n",
    "import seaborn as sns\n",
    "# sklearn imports\n",
    "import sklearn\n",
    "from sklearn import metrics\n",
    "from sklearn import datasets\n",
    "from sklearn import pipeline\n",
    "from sklearn import linear_model\n",
    "from sklearn import preprocessing\n",
    "from sklearn.preprocessing import OneHotEncoder\n",
    "from sklearn import model_selection\n",
    "from sklearn.feature_selection import mutual_info_regression\n",
    "from scipy.stats import randint\n",
    "from sklearn.metrics import accuracy_score\n",
    "\n",
    "# define plt settings\n",
    "sns.set_theme()\n",
    "plt.rcParams[\"font.size\"] = 20\n",
    "plt.rcParams[\"axes.labelsize\"] = 20\n",
    "plt.rcParams[\"xtick.labelsize\"] = 20\n",
    "plt.rcParams[\"ytick.labelsize\"] = 20\n",
    "plt.rcParams[\"legend.fontsize\"] = 20\n",
    "plt.rcParams[\"legend.markerscale\"] = 1\n",
    "plt.rcParams[\"figure.figsize\"] = (20, 10)\n",
    "plt.rcParams[\"legend.title_fontsize\"] = 20"
   ]
  },
  {
   "cell_type": "code",
   "execution_count": 2,
   "metadata": {
    "id": "TrHO9kzwYB15"
   },
   "outputs": [],
   "source": [
    "dataset=pd.read_csv(\"Datasets/Dataset.csv\")"
   ]
  },
  {
   "cell_type": "code",
   "execution_count": 3,
   "metadata": {
    "colab": {
     "base_uri": "https://localhost:8080/",
     "height": 206
    },
    "id": "ODc54W0fYOap",
    "outputId": "eacbb7dd-a3aa-4b49-f8c3-dc3da91f8d16"
   },
   "outputs": [
    {
     "data": {
      "text/html": [
       "<div>\n",
       "<style scoped>\n",
       "    .dataframe tbody tr th:only-of-type {\n",
       "        vertical-align: middle;\n",
       "    }\n",
       "\n",
       "    .dataframe tbody tr th {\n",
       "        vertical-align: top;\n",
       "    }\n",
       "\n",
       "    .dataframe thead th {\n",
       "        text-align: right;\n",
       "    }\n",
       "</style>\n",
       "<table border=\"1\" class=\"dataframe\">\n",
       "  <thead>\n",
       "    <tr style=\"text-align: right;\">\n",
       "      <th></th>\n",
       "      <th>Day</th>\n",
       "      <th>Date</th>\n",
       "      <th>CodedDay</th>\n",
       "      <th>Zone</th>\n",
       "      <th>Weather</th>\n",
       "      <th>Temperature</th>\n",
       "      <th>Traffic</th>\n",
       "    </tr>\n",
       "  </thead>\n",
       "  <tbody>\n",
       "    <tr>\n",
       "      <th>0</th>\n",
       "      <td>Wednesday</td>\n",
       "      <td>01-06-18</td>\n",
       "      <td>3</td>\n",
       "      <td>2</td>\n",
       "      <td>35</td>\n",
       "      <td>17</td>\n",
       "      <td>2</td>\n",
       "    </tr>\n",
       "    <tr>\n",
       "      <th>1</th>\n",
       "      <td>Wednesday</td>\n",
       "      <td>01-06-18</td>\n",
       "      <td>3</td>\n",
       "      <td>3</td>\n",
       "      <td>36</td>\n",
       "      <td>16</td>\n",
       "      <td>3</td>\n",
       "    </tr>\n",
       "    <tr>\n",
       "      <th>2</th>\n",
       "      <td>Wednesday</td>\n",
       "      <td>01-06-18</td>\n",
       "      <td>3</td>\n",
       "      <td>4</td>\n",
       "      <td>27</td>\n",
       "      <td>25</td>\n",
       "      <td>5</td>\n",
       "    </tr>\n",
       "    <tr>\n",
       "      <th>3</th>\n",
       "      <td>Wednesday</td>\n",
       "      <td>01-06-18</td>\n",
       "      <td>3</td>\n",
       "      <td>5</td>\n",
       "      <td>23</td>\n",
       "      <td>23</td>\n",
       "      <td>3</td>\n",
       "    </tr>\n",
       "    <tr>\n",
       "      <th>4</th>\n",
       "      <td>Wednesday</td>\n",
       "      <td>01-06-18</td>\n",
       "      <td>3</td>\n",
       "      <td>6</td>\n",
       "      <td>18</td>\n",
       "      <td>42</td>\n",
       "      <td>2</td>\n",
       "    </tr>\n",
       "  </tbody>\n",
       "</table>\n",
       "</div>"
      ],
      "text/plain": [
       "         Day      Date  CodedDay  Zone  Weather  Temperature  Traffic\n",
       "0  Wednesday  01-06-18         3     2       35           17        2\n",
       "1  Wednesday  01-06-18         3     3       36           16        3\n",
       "2  Wednesday  01-06-18         3     4       27           25        5\n",
       "3  Wednesday  01-06-18         3     5       23           23        3\n",
       "4  Wednesday  01-06-18         3     6       18           42        2"
      ]
     },
     "execution_count": 3,
     "metadata": {},
     "output_type": "execute_result"
    }
   ],
   "source": [
    "dataset.head()"
   ]
  },
  {
   "cell_type": "code",
   "execution_count": 4,
   "metadata": {
    "id": "M0QOfekoYV8p"
   },
   "outputs": [],
   "source": [
    "from sklearn.preprocessing import LabelEncoder \n",
    "le = LabelEncoder()"
   ]
  },
  {
   "cell_type": "code",
   "execution_count": 5,
   "metadata": {
    "id": "hpp-tBxSYaTh"
   },
   "outputs": [],
   "source": [
    "# dataset['Date']= le.fit_transform(dataset['Date'])\n",
    "# print(le.classes_)\n",
    "dataset = dataset.drop(\"Day\", axis=1)\n",
    "# dataset = dataset.drop(\"Date\", axis=1)"
   ]
  },
  {
   "cell_type": "code",
   "execution_count": 6,
   "metadata": {
    "tags": []
   },
   "outputs": [],
   "source": [
    "dataset['Date'] = pd.to_datetime(dataset['Date'], format='%d-%m-%y')\n",
    "\n",
    "def datetime_to_ordinal(d):\n",
    "    return d.to_pydatetime().date().toordinal()\n",
    "\n",
    "dataset['Ordinal_Date'] = dataset['Date'].apply(datetime_to_ordinal)\n",
    "dataset = dataset.drop(\"Date\", axis=1)"
   ]
  },
  {
   "cell_type": "code",
   "execution_count": 7,
   "metadata": {
    "tags": []
   },
   "outputs": [
    {
     "data": {
      "text/html": [
       "<div>\n",
       "<style scoped>\n",
       "    .dataframe tbody tr th:only-of-type {\n",
       "        vertical-align: middle;\n",
       "    }\n",
       "\n",
       "    .dataframe tbody tr th {\n",
       "        vertical-align: top;\n",
       "    }\n",
       "\n",
       "    .dataframe thead th {\n",
       "        text-align: right;\n",
       "    }\n",
       "</style>\n",
       "<table border=\"1\" class=\"dataframe\">\n",
       "  <thead>\n",
       "    <tr style=\"text-align: right;\">\n",
       "      <th></th>\n",
       "      <th>CodedDay</th>\n",
       "      <th>Zone</th>\n",
       "      <th>Weather</th>\n",
       "      <th>Temperature</th>\n",
       "      <th>Traffic</th>\n",
       "      <th>Ordinal_Date</th>\n",
       "    </tr>\n",
       "  </thead>\n",
       "  <tbody>\n",
       "    <tr>\n",
       "      <th>0</th>\n",
       "      <td>3</td>\n",
       "      <td>2</td>\n",
       "      <td>35</td>\n",
       "      <td>17</td>\n",
       "      <td>2</td>\n",
       "      <td>736846</td>\n",
       "    </tr>\n",
       "    <tr>\n",
       "      <th>1</th>\n",
       "      <td>3</td>\n",
       "      <td>3</td>\n",
       "      <td>36</td>\n",
       "      <td>16</td>\n",
       "      <td>3</td>\n",
       "      <td>736846</td>\n",
       "    </tr>\n",
       "    <tr>\n",
       "      <th>2</th>\n",
       "      <td>3</td>\n",
       "      <td>4</td>\n",
       "      <td>27</td>\n",
       "      <td>25</td>\n",
       "      <td>5</td>\n",
       "      <td>736846</td>\n",
       "    </tr>\n",
       "    <tr>\n",
       "      <th>3</th>\n",
       "      <td>3</td>\n",
       "      <td>5</td>\n",
       "      <td>23</td>\n",
       "      <td>23</td>\n",
       "      <td>3</td>\n",
       "      <td>736846</td>\n",
       "    </tr>\n",
       "    <tr>\n",
       "      <th>4</th>\n",
       "      <td>3</td>\n",
       "      <td>6</td>\n",
       "      <td>18</td>\n",
       "      <td>42</td>\n",
       "      <td>2</td>\n",
       "      <td>736846</td>\n",
       "    </tr>\n",
       "    <tr>\n",
       "      <th>...</th>\n",
       "      <td>...</td>\n",
       "      <td>...</td>\n",
       "      <td>...</td>\n",
       "      <td>...</td>\n",
       "      <td>...</td>\n",
       "      <td>...</td>\n",
       "    </tr>\n",
       "    <tr>\n",
       "      <th>1434</th>\n",
       "      <td>5</td>\n",
       "      <td>140</td>\n",
       "      <td>47</td>\n",
       "      <td>38</td>\n",
       "      <td>1</td>\n",
       "      <td>736855</td>\n",
       "    </tr>\n",
       "    <tr>\n",
       "      <th>1435</th>\n",
       "      <td>5</td>\n",
       "      <td>141</td>\n",
       "      <td>15</td>\n",
       "      <td>8</td>\n",
       "      <td>4</td>\n",
       "      <td>736855</td>\n",
       "    </tr>\n",
       "    <tr>\n",
       "      <th>1436</th>\n",
       "      <td>5</td>\n",
       "      <td>142</td>\n",
       "      <td>26</td>\n",
       "      <td>38</td>\n",
       "      <td>1</td>\n",
       "      <td>736855</td>\n",
       "    </tr>\n",
       "    <tr>\n",
       "      <th>1437</th>\n",
       "      <td>5</td>\n",
       "      <td>143</td>\n",
       "      <td>16</td>\n",
       "      <td>34</td>\n",
       "      <td>3</td>\n",
       "      <td>736855</td>\n",
       "    </tr>\n",
       "    <tr>\n",
       "      <th>1438</th>\n",
       "      <td>5</td>\n",
       "      <td>144</td>\n",
       "      <td>16</td>\n",
       "      <td>17</td>\n",
       "      <td>1</td>\n",
       "      <td>736855</td>\n",
       "    </tr>\n",
       "  </tbody>\n",
       "</table>\n",
       "<p>1439 rows × 6 columns</p>\n",
       "</div>"
      ],
      "text/plain": [
       "      CodedDay  Zone  Weather  Temperature  Traffic  Ordinal_Date\n",
       "0            3     2       35           17        2        736846\n",
       "1            3     3       36           16        3        736846\n",
       "2            3     4       27           25        5        736846\n",
       "3            3     5       23           23        3        736846\n",
       "4            3     6       18           42        2        736846\n",
       "...        ...   ...      ...          ...      ...           ...\n",
       "1434         5   140       47           38        1        736855\n",
       "1435         5   141       15            8        4        736855\n",
       "1436         5   142       26           38        1        736855\n",
       "1437         5   143       16           34        3        736855\n",
       "1438         5   144       16           17        1        736855\n",
       "\n",
       "[1439 rows x 6 columns]"
      ]
     },
     "execution_count": 7,
     "metadata": {},
     "output_type": "execute_result"
    }
   ],
   "source": [
    "def dummy_encode(df, columns_names_list):\n",
    "    df_cat = df[columns_names_list]\n",
    "    enc = OneHotEncoder(drop='first', sparse_output=False)\n",
    "    df_cat_enc = pd.DataFrame(enc.fit_transform(df_cat),columns=enc.get_feature_names_out(columns_names_list))\n",
    "    df_enc = df.drop(columns_names_list, axis=1).join(df_cat_enc)\n",
    "    return df_enc\n",
    "\n",
    "# dataset = dummy_encode(dataset, ['CodedDay'])\n",
    "dataset"
   ]
  },
  {
   "cell_type": "code",
   "execution_count": 8,
   "metadata": {
    "colab": {
     "base_uri": "https://localhost:8080/"
    },
    "id": "z3GBxgJSYyW5",
    "outputId": "7828d991-f8e8-4863-f7f7-97d483e64b9a"
   },
   "outputs": [
    {
     "name": "stdout",
     "output_type": "stream",
     "text": [
      "<class 'pandas.core.frame.DataFrame'>\n",
      "RangeIndex: 1439 entries, 0 to 1438\n",
      "Data columns (total 6 columns):\n",
      " #   Column        Non-Null Count  Dtype\n",
      "---  ------        --------------  -----\n",
      " 0   CodedDay      1439 non-null   int64\n",
      " 1   Zone          1439 non-null   int64\n",
      " 2   Weather       1439 non-null   int64\n",
      " 3   Temperature   1439 non-null   int64\n",
      " 4   Traffic       1439 non-null   int64\n",
      " 5   Ordinal_Date  1439 non-null   int64\n",
      "dtypes: int64(6)\n",
      "memory usage: 67.6 KB\n"
     ]
    }
   ],
   "source": [
    "dataset.info()"
   ]
  },
  {
   "cell_type": "code",
   "execution_count": 9,
   "metadata": {
    "tags": []
   },
   "outputs": [
    {
     "data": {
      "text/plain": [
       "Traffic\n",
       "5    312\n",
       "2    294\n",
       "1    280\n",
       "3    277\n",
       "4    276\n",
       "Name: count, dtype: int64"
      ]
     },
     "execution_count": 9,
     "metadata": {},
     "output_type": "execute_result"
    }
   ],
   "source": [
    "dataset['Traffic'].value_counts()"
   ]
  },
  {
   "cell_type": "code",
   "execution_count": 10,
   "metadata": {
    "tags": []
   },
   "outputs": [
    {
     "data": {
      "text/plain": [
       "<Axes: >"
      ]
     },
     "execution_count": 10,
     "metadata": {},
     "output_type": "execute_result"
    },
    {
     "data": {
      "image/png": "[encoded data removed]",
      "text/plain": [
       "<Figure size 2000x1000 with 1 Axes>"
      ]
     },
     "metadata": {},
     "output_type": "display_data"
    }
   ],
   "source": [
    "dataset['Traffic'].hist()"
   ]
  },
  {
   "cell_type": "code",
   "execution_count": 11,
   "metadata": {
    "tags": []
   },
   "outputs": [],
   "source": [
    "# # show pairplot of the features\n",
    "# plt.figure(figsize=(10,10))\n",
    "# sns.pairplot(data=dataset, hue=\"Traffic\", palette='pastel', height=5)"
   ]
  },
  {
   "cell_type": "code",
   "execution_count": 12,
   "metadata": {
    "tags": []
   },
   "outputs": [],
   "source": [
    "# plt.figure(figsize=(20,15))\n",
    "# cor = dataset.corr()\n",
    "# sns.heatmap(cor, annot=True,\n",
    "#             cmap=plt.cm.Greens, vmin=-1, vmax=1)\n",
    "# plt.show()"
   ]
  },
  {
   "cell_type": "code",
   "execution_count": 13,
   "metadata": {
    "id": "NeONZVwJZEZK"
   },
   "outputs": [
    {
     "data": {
      "text/html": [
       "<div>\n",
       "<style scoped>\n",
       "    .dataframe tbody tr th:only-of-type {\n",
       "        vertical-align: middle;\n",
       "    }\n",
       "\n",
       "    .dataframe tbody tr th {\n",
       "        vertical-align: top;\n",
       "    }\n",
       "\n",
       "    .dataframe thead th {\n",
       "        text-align: right;\n",
       "    }\n",
       "</style>\n",
       "<table border=\"1\" class=\"dataframe\">\n",
       "  <thead>\n",
       "    <tr style=\"text-align: right;\">\n",
       "      <th></th>\n",
       "      <th>CodedDay</th>\n",
       "      <th>Zone</th>\n",
       "      <th>Weather</th>\n",
       "      <th>Temperature</th>\n",
       "      <th>Ordinal_Date</th>\n",
       "    </tr>\n",
       "  </thead>\n",
       "  <tbody>\n",
       "    <tr>\n",
       "      <th>0</th>\n",
       "      <td>3</td>\n",
       "      <td>2</td>\n",
       "      <td>35</td>\n",
       "      <td>17</td>\n",
       "      <td>736846</td>\n",
       "    </tr>\n",
       "    <tr>\n",
       "      <th>1</th>\n",
       "      <td>3</td>\n",
       "      <td>3</td>\n",
       "      <td>36</td>\n",
       "      <td>16</td>\n",
       "      <td>736846</td>\n",
       "    </tr>\n",
       "    <tr>\n",
       "      <th>2</th>\n",
       "      <td>3</td>\n",
       "      <td>4</td>\n",
       "      <td>27</td>\n",
       "      <td>25</td>\n",
       "      <td>736846</td>\n",
       "    </tr>\n",
       "    <tr>\n",
       "      <th>3</th>\n",
       "      <td>3</td>\n",
       "      <td>5</td>\n",
       "      <td>23</td>\n",
       "      <td>23</td>\n",
       "      <td>736846</td>\n",
       "    </tr>\n",
       "    <tr>\n",
       "      <th>4</th>\n",
       "      <td>3</td>\n",
       "      <td>6</td>\n",
       "      <td>18</td>\n",
       "      <td>42</td>\n",
       "      <td>736846</td>\n",
       "    </tr>\n",
       "    <tr>\n",
       "      <th>...</th>\n",
       "      <td>...</td>\n",
       "      <td>...</td>\n",
       "      <td>...</td>\n",
       "      <td>...</td>\n",
       "      <td>...</td>\n",
       "    </tr>\n",
       "    <tr>\n",
       "      <th>1434</th>\n",
       "      <td>5</td>\n",
       "      <td>140</td>\n",
       "      <td>47</td>\n",
       "      <td>38</td>\n",
       "      <td>736855</td>\n",
       "    </tr>\n",
       "    <tr>\n",
       "      <th>1435</th>\n",
       "      <td>5</td>\n",
       "      <td>141</td>\n",
       "      <td>15</td>\n",
       "      <td>8</td>\n",
       "      <td>736855</td>\n",
       "    </tr>\n",
       "    <tr>\n",
       "      <th>1436</th>\n",
       "      <td>5</td>\n",
       "      <td>142</td>\n",
       "      <td>26</td>\n",
       "      <td>38</td>\n",
       "      <td>736855</td>\n",
       "    </tr>\n",
       "    <tr>\n",
       "      <th>1437</th>\n",
       "      <td>5</td>\n",
       "      <td>143</td>\n",
       "      <td>16</td>\n",
       "      <td>34</td>\n",
       "      <td>736855</td>\n",
       "    </tr>\n",
       "    <tr>\n",
       "      <th>1438</th>\n",
       "      <td>5</td>\n",
       "      <td>144</td>\n",
       "      <td>16</td>\n",
       "      <td>17</td>\n",
       "      <td>736855</td>\n",
       "    </tr>\n",
       "  </tbody>\n",
       "</table>\n",
       "<p>1439 rows × 5 columns</p>\n",
       "</div>"
      ],
      "text/plain": [
       "      CodedDay  Zone  Weather  Temperature  Ordinal_Date\n",
       "0            3     2       35           17        736846\n",
       "1            3     3       36           16        736846\n",
       "2            3     4       27           25        736846\n",
       "3            3     5       23           23        736846\n",
       "4            3     6       18           42        736846\n",
       "...        ...   ...      ...          ...           ...\n",
       "1434         5   140       47           38        736855\n",
       "1435         5   141       15            8        736855\n",
       "1436         5   142       26           38        736855\n",
       "1437         5   143       16           34        736855\n",
       "1438         5   144       16           17        736855\n",
       "\n",
       "[1439 rows x 5 columns]"
      ]
     },
     "execution_count": 13,
     "metadata": {},
     "output_type": "execute_result"
    }
   ],
   "source": [
    "X = dataset.drop('Traffic', axis=1)\n",
    "t = dataset['Traffic']\n",
    "X"
   ]
  },
  {
   "cell_type": "code",
   "execution_count": 14,
   "metadata": {
    "tags": []
   },
   "outputs": [
    {
     "data": {
      "text/plain": [
       "0       2\n",
       "1       3\n",
       "2       5\n",
       "3       3\n",
       "4       2\n",
       "       ..\n",
       "1434    1\n",
       "1435    4\n",
       "1436    1\n",
       "1437    3\n",
       "1438    1\n",
       "Name: Traffic, Length: 1439, dtype: int64"
      ]
     },
     "execution_count": 14,
     "metadata": {},
     "output_type": "execute_result"
    }
   ],
   "source": [
    "t"
   ]
  },
  {
   "cell_type": "code",
   "execution_count": 15,
   "metadata": {
    "id": "lu3kTEiNZHJZ"
   },
   "outputs": [],
   "source": [
    "from sklearn.model_selection import train_test_split\n",
    "X_train, X_test, t_train, t_test = train_test_split(X, t, test_size = 0.3, random_state = 2)"
   ]
  },
  {
   "cell_type": "code",
   "execution_count": 16,
   "metadata": {
    "colab": {
     "base_uri": "https://localhost:8080/"
    },
    "id": "ARr76P8HZLbg",
    "outputId": "af210d1d-75d9-4dd8-b7d3-09cc18cb85b6"
   },
   "outputs": [],
   "source": [
    "from sklearn.tree import DecisionTreeClassifier\n",
    "tree_clf = pipeline.make_pipeline(\n",
    "    preprocessing.StandardScaler(),\n",
    "     DecisionTreeClassifier()\n",
    "     ).fit(X_train, t_train)\n",
    "y_pred = tree_clf.predict(X_test)\n",
    "y_pred_train = tree_clf.predict(X_train)"
   ]
  },
  {
   "cell_type": "code",
   "execution_count": 17,
   "metadata": {
    "tags": []
   },
   "outputs": [],
   "source": [
    "# display(t_train)\n",
    "# display(y_pred_train)"
   ]
  },
  {
   "cell_type": "code",
   "execution_count": 18,
   "metadata": {
    "tags": []
   },
   "outputs": [],
   "source": [
    "# display(t_test)\n",
    "# display(y_pred)"
   ]
  },
  {
   "cell_type": "code",
   "execution_count": 19,
   "metadata": {
    "id": "k-xry5_3ZNj4"
   },
   "outputs": [
    {
     "name": "stdout",
     "output_type": "stream",
     "text": [
      "Accuracy score on train 1.0\n",
      "Accuracy score on test 0.2152777777777778\n"
     ]
    }
   ],
   "source": [
    "# df1=(y_pred-t_test)/t_test\n",
    "# df1=round(df1.mean()*100,2)\n",
    "# a=100-df1\n",
    "# print(\"Error = \",df1,\"%\") \n",
    "# print(\"Accuracy= \",a,\"%\")\n",
    "\n",
    "print('Accuracy score on train',accuracy_score(t_train, y_pred_train))\n",
    "print('Accuracy score on test',accuracy_score(t_test, y_pred))"
   ]
  },
  {
   "cell_type": "code",
   "execution_count": 20,
   "metadata": {
    "colab": {
     "base_uri": "https://localhost:8080/"
    },
    "id": "z4EQ9av3Zk7g",
    "outputId": "a47625f4-a54d-463c-d8de-2a26155bdc2b"
   },
   "outputs": [],
   "source": [
    "from sklearn import svm\n",
    "SVM_clf = pipeline.make_pipeline(\n",
    "    preprocessing.StandardScaler(),\n",
    "     svm.SVC()\n",
    "     ).fit(X_train, t_train)"
   ]
  },
  {
   "cell_type": "code",
   "execution_count": 21,
   "metadata": {
    "colab": {
     "base_uri": "https://localhost:8080/"
    },
    "id": "xBQ1UEXDaS5A",
    "outputId": "4117d74d-6659-4cee-dbc4-cc487d01ea00"
   },
   "outputs": [
    {
     "name": "stdout",
     "output_type": "stream",
     "text": [
      "Accuracy score on train 0.3336643495531281\n",
      "Accuracy score on test 0.22685185185185186\n"
     ]
    }
   ],
   "source": [
    "y_pred_train = SVM_clf.predict(X_train)\n",
    "y_pred = SVM_clf.predict(X_test)\n",
    "\n",
    "# df1=(y_pred-t_test)/t_test\n",
    "# df1=round(df1.mean()*100,2)\n",
    "# a=100-df1\n",
    "# print(\"Error = \",df1,\"%\") \n",
    "# print(\"Accuracy= \",a,\"%\")\n",
    "\n",
    "print('Accuracy score on train',accuracy_score(t_train, y_pred_train))\n",
    "print('Accuracy score on test',accuracy_score(t_test, y_pred))"
   ]
  },
  {
   "cell_type": "code",
   "execution_count": 23,
   "metadata": {
    "tags": []
   },
   "outputs": [
    {
     "data": {
      "text/plain": [
       "array([1, 4, 5, 5, 2, 5, 2, 3, 4, 4, 3, 4, 4, 5, 5, 2, 4, 5, 2, 3, 3, 4,\n",
       "       5, 5, 5, 3, 5, 3, 1, 1, 4, 3, 1, 4, 2, 3, 4, 4, 3, 5, 5, 2, 2, 3,\n",
       "       3, 1, 5, 2, 1, 3, 3, 5, 5, 5, 4, 5, 3, 2, 1, 1, 5, 3, 2, 4, 3, 4,\n",
       "       3, 3, 5, 4, 4, 1, 2, 3, 4, 4, 4, 5, 4, 3, 1, 4, 3, 5, 1, 5, 3, 1,\n",
       "       2, 5, 5, 1, 1, 3, 1, 1, 4, 5, 5, 5, 4, 4, 4, 5, 3, 5, 2, 5, 4, 4,\n",
       "       3, 3, 5, 4, 5, 4, 4, 1, 1, 3, 4, 4, 5, 5, 2, 1, 3, 5, 2, 4, 4, 2,\n",
       "       3, 5, 2, 5, 4, 5, 2, 1, 4, 2, 4, 3, 5, 1, 1, 5, 5, 5, 1, 4, 5, 4,\n",
       "       2, 2, 5, 4, 3, 2, 5, 5, 2, 5, 3, 1, 4, 2, 1, 5, 2, 2, 4, 2, 2, 5,\n",
       "       5, 1, 5, 5, 2, 3, 2, 2, 3, 1, 5, 3, 1, 1, 4, 1, 5, 3, 4, 3, 1, 5,\n",
       "       4, 3, 2, 5, 3, 2, 1, 1, 3, 4, 1, 4, 4, 2, 2, 3, 1, 5, 1, 5, 4, 5,\n",
       "       4, 2, 4, 1, 2, 4, 2, 1, 2, 4, 5, 4, 5, 2, 1, 5, 5, 4, 1, 2, 1, 4,\n",
       "       2, 5, 3, 4, 5, 1, 1, 4, 5, 5, 1, 4, 2, 1, 5, 5, 3, 4, 5, 4, 2, 5,\n",
       "       2, 5, 1, 4, 2, 2, 2, 4, 4, 5, 4, 4, 5, 2, 1, 2, 4, 5, 3, 3, 1, 1,\n",
       "       5, 3, 1, 4, 4, 5, 4, 4, 5, 2, 4, 2, 4, 2, 1, 2, 3, 5, 2, 5, 5, 3,\n",
       "       5, 1, 2, 5, 1, 1, 4, 4, 2, 1, 5, 5, 2, 3, 4, 4, 3, 2, 2, 2, 5, 5,\n",
       "       3, 2, 1, 4, 4, 3, 4, 4, 3, 2, 5, 2, 4, 1, 1, 1, 4, 4, 2, 3, 5, 1,\n",
       "       2, 5, 3, 4, 3, 2, 1, 5, 5, 3, 5, 1, 2, 3, 5, 5, 1, 2, 3, 5, 5, 1,\n",
       "       2, 1, 1, 1, 5, 5, 5, 5, 3, 2, 2, 4, 5, 4, 1, 3, 3, 2, 1, 2, 1, 3,\n",
       "       3, 1, 1, 2, 2, 4, 3, 4, 4, 1, 2, 5, 1, 5, 1, 4, 2, 4, 5, 4, 5, 4,\n",
       "       5, 1, 1, 5, 3, 4, 1, 5, 3, 2, 4, 3, 2, 1], dtype=int64)"
      ]
     },
     "execution_count": 23,
     "metadata": {},
     "output_type": "execute_result"
    }
   ],
   "source": [
    "y_pred"
   ]
  },
  {
   "cell_type": "code",
   "execution_count": 24,
   "metadata": {
    "tags": []
   },
   "outputs": [
    {
     "data": {
      "text/plain": [
       "1290    5\n",
       "137     3\n",
       "1094    2\n",
       "1425    1\n",
       "560     4\n",
       "       ..\n",
       "91      5\n",
       "794     4\n",
       "336     4\n",
       "23      4\n",
       "1268    2\n",
       "Name: Traffic, Length: 432, dtype: int64"
      ]
     },
     "execution_count": 24,
     "metadata": {},
     "output_type": "execute_result"
    }
   ],
   "source": [
    "t_test"
   ]
  },
  {
   "cell_type": "code",
   "execution_count": null,
   "metadata": {},
   "outputs": [],
   "source": []
  }
 ],
 "metadata": {
  "colab": {
   "collapsed_sections": [],
   "name": "Traffic-Prediction.ipynb",
   "provenance": []
  },
  "kernelspec": {
   "display_name": "Python 3 (ipykernel)",
   "language": "python",
   "name": "python3"
  },
  "language_info": {
   "codemirror_mode": {
    "name": "ipython",
    "version": 3
   },
   "file_extension": ".py",
   "mimetype": "text/x-python",
   "name": "python",
   "nbconvert_exporter": "python",
   "pygments_lexer": "ipython3",
   "version": "3.11.5"
  }
 },
 "nbformat": 4,
 "nbformat_minor": 4
}
